{
 "cells": [
  {
   "cell_type": "code",
   "execution_count": 16,
   "id": "abd26854",
   "metadata": {},
   "outputs": [],
   "source": [
    "from pathlib import Path\n",
    "import random\n",
    "import shutil"
   ]
  },
  {
   "cell_type": "code",
   "execution_count": null,
   "id": "b2d1b9f4",
   "metadata": {},
   "outputs": [],
   "source": [
    "# file variables\n",
    "N_HIVE = 8\n",
    "PROJECT_ROOT = Path(__file__).resolve().parents[1] if \"__file__\" in globals() else Path.cwd().parents[0]\n",
    "SAMPLE_DIR = PROJECT_ROOT / 'data' / 'sample'\n",
    "# before creating sample folder, delete if exists\n",
    "if SAMPLE_DIR.exists() and SAMPLE_DIR.is_dir():\n",
    "    shutil.rmtree(SAMPLE_DIR)\n",
    "SAMPLE_DIR.mkdir(mode=0o777, parents=True, exist_ok=False)"
   ]
  },
  {
   "cell_type": "code",
   "execution_count": null,
   "id": "ace2b5f6",
   "metadata": {},
   "outputs": [],
   "source": [
    "### detection dataset\n",
    "# sample size\n",
    "N = 8\n",
    "assert N % N_HIVE == 0 # data equally divided into hives\n",
    "# source and output paths\n",
    "data_dir = PROJECT_ROOT / 'data' / 'full' / 'detection'\n",
    "OUTPUT_DIR = SAMPLE_DIR / f'detection_{N}'\n",
    "# loop hives\n",
    "for fhive in [folder for folder in data_dir.iterdir() if folder.is_dir()]:\n",
    "    # create images and labels folders\n",
    "    (OUTPUT_DIR / fhive.name / 'images').mkdir(mode=0o777, parents=True, exist_ok=False)\n",
    "    (OUTPUT_DIR / fhive.name / 'labels').mkdir(mode=0o777, parents=True, exist_ok=False)\n",
    "    # list all images\n",
    "    images = [file for file in (fhive / 'images').iterdir() if file.suffix.lower() == '.jpg']\n",
    "    # get sampled images\n",
    "    sampled_images = random.sample(images, min(N // N_HIVE, len(images)))\n",
    "    # map with labels and copy to output dir\n",
    "    for image in sampled_images:\n",
    "        label = (image.parent.parent / 'labels' / image.name).with_suffix('.txt')\n",
    "        shutil.copy(image, OUTPUT_DIR / fhive.name / 'images' / image.name)\n",
    "        shutil.copy(label, OUTPUT_DIR / fhive.name / 'labels' / label.name)"
   ]
  },
  {
   "cell_type": "code",
   "execution_count": null,
   "id": "9f7b474f",
   "metadata": {},
   "outputs": [],
   "source": [
    "### segmentation dataset\n",
    "# sample size\n",
    "N = 10\n",
    "# source and output paths\n",
    "data_dir = PROJECT_ROOT / 'data' / 'full' / 'segmentation'\n",
    "OUTPUT_DIR = SAMPLE_DIR / f'segmentation_{N}'\n",
    "# create images and labels folders\n",
    "(OUTPUT_DIR / 'images').mkdir(mode=0o777, parents=True, exist_ok=False)\n",
    "(OUTPUT_DIR / 'labels').mkdir(mode=0o777, parents=True, exist_ok=False)\n",
    "# list all images\n",
    "images = [file for file in (data_dir / 'images').iterdir() if file.suffix.lower() == '.jpg']\n",
    "# sampled images\n",
    "sampled_images = random.sample(images, min(N, len(images)))\n",
    "# map with labels and copy to output dir\n",
    "for image in sampled_images:\n",
    "    label = (image.parent.parent / 'labels' / image.name).with_suffix('.txt')\n",
    "    shutil.copy(image, OUTPUT_DIR / 'images' / image.name)\n",
    "    shutil.copy(label, OUTPUT_DIR / 'labels' / label.name)"
   ]
  }
 ],
 "metadata": {
  "kernelspec": {
   "display_name": "bee",
   "language": "python",
   "name": "python3"
  },
  "language_info": {
   "codemirror_mode": {
    "name": "ipython",
    "version": 3
   },
   "file_extension": ".py",
   "mimetype": "text/x-python",
   "name": "python",
   "nbconvert_exporter": "python",
   "pygments_lexer": "ipython3",
   "version": "3.13.5"
  }
 },
 "nbformat": 4,
 "nbformat_minor": 5
}
